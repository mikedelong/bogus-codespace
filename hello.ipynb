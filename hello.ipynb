{
 "cells": [
  {
   "cell_type": "code",
   "execution_count": 15,
   "metadata": {},
   "outputs": [],
   "source": [
    "from pandas import read_csv\n"
   ]
  },
  {
   "cell_type": "code",
   "execution_count": 16,
   "metadata": {},
   "outputs": [],
   "source": [
    "do_this = False\n",
    "if do_this:\n",
    "    url = 'https://data.cdc.gov/api/views/bi63-dtpu/rows.csv?accessType=DOWNLOAD&bom=true&format=true'\n",
    "    df = read_csv(filepath_or_buffer=url)\n"
   ]
  },
  {
   "cell_type": "code",
   "execution_count": 17,
   "metadata": {},
   "outputs": [],
   "source": [
    "if do_this:\n",
    "    df_columns = df.columns.to_list()\n",
    "    df_columns\n",
    "\n",
    "    df['Cause Name'].unique().tolist()"
   ]
  },
  {
   "cell_type": "code",
   "execution_count": 18,
   "metadata": {},
   "outputs": [],
   "source": [
    "from io import BytesIO\n",
    "from zipfile import ZipFile\n",
    "from urllib.request import urlopen"
   ]
  },
  {
   "cell_type": "code",
   "execution_count": 23,
   "metadata": {},
   "outputs": [
    {
     "name": "stdout",
     "output_type": "stream",
     "text": [
      "['Pop6878.txt']\n",
      "0000019681 1504706 6258000 8863000 8890000 7953000 63650001026200010228000 9933000 7787000 4865000 2230000  399000U.S.                     1\n",
      "\n",
      "0000019682 1421634 5999000 8498000 8518000 7767000 6867000105430001065100010533000 8610000 6208000 3290000  739000U.S.                     1\n",
      "\n",
      "0000019683  265110 1048000 1389000 1355000 1114000  748000 1165000 1097000  957000  716000  453000  165000   35000U.S.                     1\n",
      "\n",
      "0000019684  258270 1042000 1390000 1351000 1136000  878000 1392000 1309000 1100000  828000  563000  222000   56000U.S.                     1\n",
      "\n",
      "0000019685   26510  101000  138000  122000  110000   95000  161000  140000  105000   84000   48000   21000    6000U.S.                     1\n",
      "\n",
      "0000019686   25334   99000  136000  121000  110000  102000  179000  163000  100000   62000   41000   18000    5000U.S.                     1\n",
      "\n",
      "0100019681   21926   87843  122098  126077  113381   95824  153989  148797  137379  110443   61983   26814    5190ALABAMA                  2\n",
      "\n",
      "0100019682   20102   83357  116759  119664  110372  101109  159571  156867  145304  124689   80720   41046    9123ALABAMA                  2\n",
      "\n",
      "0100019683   10802   41329   57448   60667   50550   25557   34977   35839   36421   35316   23608    9438    2306ALABAMA                  2\n",
      "\n",
      "0100019684   10680   40900   57242   60317   53323   30063   44437   48659   45080   41846   31084   13087    3690ALABAMA                  2\n",
      "\n"
     ]
    }
   ],
   "source": [
    "url = 'https://ftp.cdc.gov/pub/Health_Statistics/NCHS/Datasets/NVSS/cmf/pop6878.zip'\n",
    "resp = urlopen(url=url)\n",
    "myzip = ZipFile(BytesIO(resp.read()))\n",
    "print(myzip.namelist())\n",
    "fname = myzip.namelist()[0]\n",
    "\n",
    "\n",
    "for index, line in enumerate(myzip.open(fname).readlines()):\n",
    "    if index < 10:\n",
    "        print(line.decode('utf-8'))\n"
   ]
  }
 ],
 "metadata": {
  "kernelspec": {
   "display_name": "Python 3.10.4 64-bit",
   "language": "python",
   "name": "python3"
  },
  "language_info": {
   "codemirror_mode": {
    "name": "ipython",
    "version": 3
   },
   "file_extension": ".py",
   "mimetype": "text/x-python",
   "name": "python",
   "nbconvert_exporter": "python",
   "pygments_lexer": "ipython3",
   "version": "3.10.4"
  },
  "orig_nbformat": 4,
  "vscode": {
   "interpreter": {
    "hash": "3ad933181bd8a04b432d3370b9dc3b0662ad032c4dfaa4e4f1596c548f763858"
   }
  }
 },
 "nbformat": 4,
 "nbformat_minor": 2
}
